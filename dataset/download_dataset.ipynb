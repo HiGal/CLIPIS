{
 "cells": [
  {
   "cell_type": "code",
   "execution_count": 1,
   "metadata": {},
   "outputs": [],
   "source": [
    "import numpy as np\n",
    "import pandas as pd\n",
    "import glob"
   ]
  },
  {
   "cell_type": "code",
   "execution_count": 2,
   "metadata": {},
   "outputs": [],
   "source": [
    "path = './'\n",
    "documents = ['photos', 'keywords', 'collections', 'conversions', 'colors']\n",
    "datasets = {}\n",
    "\n",
    "for doc in documents:\n",
    "  files = glob.glob(path + doc + \".tsv*\")\n",
    "\n",
    "  subsets = []\n",
    "  for filename in files:\n",
    "    df = pd.read_csv(filename, sep='\\t', header=0)\n",
    "    subsets.append(df)\n",
    "\n",
    "  datasets[doc] = pd.concat(subsets, axis=0, ignore_index=True)"
   ]
  },
  {
   "cell_type": "code",
   "execution_count": 3,
   "metadata": {},
   "outputs": [],
   "source": [
    "df = datasets['photos'].sample(n=2000)"
   ]
  },
  {
   "cell_type": "code",
   "execution_count": 4,
   "metadata": {},
   "outputs": [],
   "source": [
    "import os"
   ]
  },
  {
   "cell_type": "code",
   "execution_count": 5,
   "metadata": {},
   "outputs": [],
   "source": [
    "import requests\n",
    "from tqdm import tqdm"
   ]
  },
  {
   "cell_type": "code",
   "execution_count": 6,
   "metadata": {},
   "outputs": [],
   "source": [
    "counter = 1000"
   ]
  },
  {
   "cell_type": "code",
   "execution_count": 7,
   "metadata": {},
   "outputs": [],
   "source": [
    "from PIL import Image"
   ]
  },
  {
   "cell_type": "code",
   "execution_count": 8,
   "metadata": {},
   "outputs": [
    {
     "name": "stderr",
     "output_type": "stream",
     "text": [
      "100%|██████████| 2000/2000 [2:19:48<00:00,  4.19s/it]  \n"
     ]
    }
   ],
   "source": [
    "for image_url in tqdm(df['photo_image_url']):\n",
    "        r = requests.get(image_url, stream = True)\n",
    "        if r.status_code == 200:\n",
    "            pilImage = Image.open(r.raw)\n",
    "            name = str(counter) + \".jpg\"\n",
    "            try:\n",
    "                pilImage = pilImage.convert('RGB')\n",
    "                pilImage.thumbnail((1024, 1024), Image.ANTIALIAS)\n",
    "                pilImage.save(os.path.join(\"./images_new/\", name), \"JPEG\")\n",
    "            except:\n",
    "                pilImage = pilImage.convert('RGB')\n",
    "                pilImage.thumbnail((1024, 1024), Image.ANTIALIAS)\n",
    "                pilImage.save(os.path.join(\"./images_new/\", name), \"JPEG\")\n",
    "#             with open(\"./images_new/{}.jpg\".format(counter), 'wb') as f:\n",
    "#                 shutil.copyfileobj(r.raw, f)\n",
    "            counter += 1\n"
   ]
  },
  {
   "cell_type": "code",
   "execution_count": null,
   "metadata": {},
   "outputs": [],
   "source": [
    "datasets['collections']"
   ]
  },
  {
   "cell_type": "code",
   "execution_count": null,
   "metadata": {},
   "outputs": [],
   "source": []
  }
 ],
 "metadata": {
  "kernelspec": {
   "display_name": "Python 3",
   "language": "python",
   "name": "python3"
  },
  "language_info": {
   "codemirror_mode": {
    "name": "ipython",
    "version": 3
   },
   "file_extension": ".py",
   "mimetype": "text/x-python",
   "name": "python",
   "nbconvert_exporter": "python",
   "pygments_lexer": "ipython3",
   "version": "3.8.3"
  }
 },
 "nbformat": 4,
 "nbformat_minor": 4
}
